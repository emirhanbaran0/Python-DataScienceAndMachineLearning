{
 "cells": [
  {
   "cell_type": "markdown",
   "id": "dc6c2238-c6f2-4309-a1b9-ee27c9079ac2",
   "metadata": {},
   "source": [
    "# Array Ayırma(Splitting)"
   ]
  },
  {
   "cell_type": "code",
   "execution_count": 1,
   "id": "0c89ff9a-e055-4d27-9dc7-fce5be0f1006",
   "metadata": {
    "tags": []
   },
   "outputs": [],
   "source": [
    "import numpy as np"
   ]
  },
  {
   "cell_type": "code",
   "execution_count": 2,
   "id": "97e6c89d-bc50-4cb2-abae-f979c0827607",
   "metadata": {
    "tags": []
   },
   "outputs": [],
   "source": [
    "x=np.array([1,2,3,99,99,3,2,1])"
   ]
  },
  {
   "cell_type": "code",
   "execution_count": 8,
   "id": "c28f159e-210a-42b5-bfc0-55b627c1988e",
   "metadata": {
    "tags": []
   },
   "outputs": [],
   "source": [
    "a,b,c=np.split(x,[3,5])"
   ]
  },
  {
   "cell_type": "code",
   "execution_count": 9,
   "id": "59cb6ca8-261e-4f6a-a2f7-ff03defe21ea",
   "metadata": {
    "tags": []
   },
   "outputs": [
    {
     "data": {
      "text/plain": [
       "array([1, 2, 3])"
      ]
     },
     "execution_count": 9,
     "metadata": {},
     "output_type": "execute_result"
    }
   ],
   "source": [
    "a"
   ]
  },
  {
   "cell_type": "code",
   "execution_count": 10,
   "id": "50abfba3-4842-46e0-bd20-09d5eaa046f7",
   "metadata": {
    "tags": []
   },
   "outputs": [],
   "source": [
    "#iki boyutlu ayırma"
   ]
  },
  {
   "cell_type": "code",
   "execution_count": 12,
   "id": "5a8fdbec-52f8-4cfa-9d6c-8d84766883ec",
   "metadata": {
    "tags": []
   },
   "outputs": [
    {
     "data": {
      "text/plain": [
       "array([[ 0,  1,  2,  3],\n",
       "       [ 4,  5,  6,  7],\n",
       "       [ 8,  9, 10, 11],\n",
       "       [12, 13, 14, 15]])"
      ]
     },
     "execution_count": 12,
     "metadata": {},
     "output_type": "execute_result"
    }
   ],
   "source": [
    "m=np.arange(16).reshape((4,4))\n",
    "m"
   ]
  },
  {
   "cell_type": "code",
   "execution_count": 19,
   "id": "20131f23-21f3-4c46-b32a-2e5247459a6a",
   "metadata": {
    "tags": []
   },
   "outputs": [],
   "source": [
    "c,f=np.vsplit(m,[2])"
   ]
  },
  {
   "cell_type": "code",
   "execution_count": 20,
   "id": "95a88454-2e8a-424c-8b89-bf8e02ea2e8c",
   "metadata": {
    "tags": []
   },
   "outputs": [
    {
     "data": {
      "text/plain": [
       "array([[ 0,  1,  2,  3,  8,  9, 10, 11],\n",
       "       [ 4,  5,  6,  7, 12, 13, 14, 15]])"
      ]
     },
     "execution_count": 20,
     "metadata": {},
     "output_type": "execute_result"
    }
   ],
   "source": [
    "d=np.concatenate([c,f],axis=1)\n",
    "d"
   ]
  },
  {
   "cell_type": "code",
   "execution_count": 24,
   "id": "51a6f879-995e-45b2-950d-953533d5dd45",
   "metadata": {
    "tags": []
   },
   "outputs": [],
   "source": [
    "sag,sol=np.hsplit(m,[2])"
   ]
  },
  {
   "cell_type": "code",
   "execution_count": 25,
   "id": "05efa24a-e248-4b34-b377-772dd4401ddd",
   "metadata": {
    "tags": []
   },
   "outputs": [
    {
     "data": {
      "text/plain": [
       "array([[ 0,  1],\n",
       "       [ 4,  5],\n",
       "       [ 8,  9],\n",
       "       [12, 13]])"
      ]
     },
     "execution_count": 25,
     "metadata": {},
     "output_type": "execute_result"
    }
   ],
   "source": [
    "sag"
   ]
  },
  {
   "cell_type": "code",
   "execution_count": 26,
   "id": "db4881fc-3f68-4031-b17c-f475148e2ddb",
   "metadata": {
    "tags": []
   },
   "outputs": [
    {
     "data": {
      "text/plain": [
       "array([[ 0,  1],\n",
       "       [ 4,  5],\n",
       "       [ 8,  9],\n",
       "       [12, 13],\n",
       "       [ 2,  3],\n",
       "       [ 6,  7],\n",
       "       [10, 11],\n",
       "       [14, 15]])"
      ]
     },
     "execution_count": 26,
     "metadata": {},
     "output_type": "execute_result"
    }
   ],
   "source": [
    "np.concatenate([sag,sol])"
   ]
  },
  {
   "cell_type": "code",
   "execution_count": 27,
   "id": "ec127d84-e536-4fc9-a34a-a153f181eb06",
   "metadata": {
    "tags": []
   },
   "outputs": [
    {
     "data": {
      "text/plain": [
       "array([[ 2,  3,  0,  1],\n",
       "       [ 6,  7,  4,  5],\n",
       "       [10, 11,  8,  9],\n",
       "       [14, 15, 12, 13]])"
      ]
     },
     "execution_count": 27,
     "metadata": {},
     "output_type": "execute_result"
    }
   ],
   "source": [
    "np.concatenate([sol,sag],axis=1)"
   ]
  },
  {
   "cell_type": "code",
   "execution_count": null,
   "id": "fae01fa1-14da-4593-8634-f5db5dac5367",
   "metadata": {},
   "outputs": [],
   "source": [
    "np.v"
   ]
  }
 ],
 "metadata": {
  "kernelspec": {
   "display_name": "Python 3 (ipykernel)",
   "language": "python",
   "name": "python3"
  },
  "language_info": {
   "codemirror_mode": {
    "name": "ipython",
    "version": 3
   },
   "file_extension": ".py",
   "mimetype": "text/x-python",
   "name": "python",
   "nbconvert_exporter": "python",
   "pygments_lexer": "ipython3",
   "version": "3.11.5"
  }
 },
 "nbformat": 4,
 "nbformat_minor": 5
}
