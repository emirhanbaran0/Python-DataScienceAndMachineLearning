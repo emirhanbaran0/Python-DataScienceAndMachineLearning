{
 "cells": [
  {
   "cell_type": "markdown",
   "id": "c66241c7-7656-4049-afb2-3d820944edad",
   "metadata": {},
   "source": [
    "# Index ile Elemanlara Erismek"
   ]
  },
  {
   "cell_type": "code",
   "execution_count": 3,
   "id": "3a0017e8-544c-473e-82e5-251fa7469361",
   "metadata": {
    "tags": []
   },
   "outputs": [
    {
     "data": {
      "text/plain": [
       "array([7, 4, 7, 4, 5, 8, 8, 9, 4, 8])"
      ]
     },
     "execution_count": 3,
     "metadata": {},
     "output_type": "execute_result"
    }
   ],
   "source": [
    "import numpy as np\n",
    "a=np.random.randint(3,10,size=10)\n",
    "a"
   ]
  },
  {
   "cell_type": "code",
   "execution_count": 4,
   "id": "15e9b418-bd34-41ae-9d77-ce3c3fb69d3f",
   "metadata": {
    "tags": []
   },
   "outputs": [
    {
     "data": {
      "text/plain": [
       "7"
      ]
     },
     "execution_count": 4,
     "metadata": {},
     "output_type": "execute_result"
    }
   ],
   "source": [
    "a[0]"
   ]
  },
  {
   "cell_type": "code",
   "execution_count": 5,
   "id": "beb0e2ae-a460-4532-a1e9-d780061e375c",
   "metadata": {
    "tags": []
   },
   "outputs": [
    {
     "data": {
      "text/plain": [
       "8"
      ]
     },
     "execution_count": 5,
     "metadata": {},
     "output_type": "execute_result"
    }
   ],
   "source": [
    "a[-1]"
   ]
  },
  {
   "cell_type": "code",
   "execution_count": 6,
   "id": "93fa3a8b-74ef-4be1-901e-90daefa3e3ea",
   "metadata": {
    "tags": []
   },
   "outputs": [],
   "source": [
    "a[0]=100"
   ]
  },
  {
   "cell_type": "code",
   "execution_count": 11,
   "id": "4f7e9a55-2c62-432b-a3fa-e81c472ff036",
   "metadata": {
    "tags": []
   },
   "outputs": [
    {
     "data": {
      "text/plain": [
       "array([[7, 5, 2, 5, 4],\n",
       "       [8, 5, 4, 5, 2]])"
      ]
     },
     "execution_count": 11,
     "metadata": {},
     "output_type": "execute_result"
    }
   ],
   "source": [
    "m=np.random.randint(10,size=(2,5))\n",
    "m"
   ]
  },
  {
   "cell_type": "code",
   "execution_count": 12,
   "id": "5befcbee-5629-4a81-a500-b0f1acc0e576",
   "metadata": {
    "tags": []
   },
   "outputs": [
    {
     "data": {
      "text/plain": [
       "5"
      ]
     },
     "execution_count": 12,
     "metadata": {},
     "output_type": "execute_result"
    }
   ],
   "source": [
    "m[0][1]"
   ]
  },
  {
   "cell_type": "code",
   "execution_count": 17,
   "id": "3e98a2e6-114b-4cff-9a19-e3ab1a05b9ee",
   "metadata": {
    "tags": []
   },
   "outputs": [],
   "source": [
    "m[0,0]=3.1"
   ]
  },
  {
   "cell_type": "code",
   "execution_count": 18,
   "id": "3ac7a6a0-ce46-4649-aee3-c18f9b94c376",
   "metadata": {
    "tags": []
   },
   "outputs": [
    {
     "data": {
      "text/plain": [
       "array([[3, 5, 2, 5, 4],\n",
       "       [8, 5, 4, 5, 2]])"
      ]
     },
     "execution_count": 18,
     "metadata": {},
     "output_type": "execute_result"
    }
   ],
   "source": [
    "m"
   ]
  },
  {
   "cell_type": "markdown",
   "id": "5d58de6f-1103-493d-a632-38706325ef5b",
   "metadata": {},
   "source": [
    "# Slicing ile Elemanlara Erişmek(Array Alt Kümesine Erişmek)"
   ]
  },
  {
   "cell_type": "code",
   "execution_count": 20,
   "id": "7c263bf4-024d-497b-b053-087476490498",
   "metadata": {
    "tags": []
   },
   "outputs": [
    {
     "data": {
      "text/plain": [
       "array([20, 21, 22, 23, 24, 25, 26, 27, 28, 29])"
      ]
     },
     "execution_count": 20,
     "metadata": {},
     "output_type": "execute_result"
    }
   ],
   "source": [
    "z=np.arange(20,30)\n",
    "z"
   ]
  },
  {
   "cell_type": "code",
   "execution_count": 25,
   "id": "3023c212-1ad6-4d7d-8449-0db13b5653f2",
   "metadata": {
    "tags": []
   },
   "outputs": [
    {
     "data": {
      "text/plain": [
       "array([21, 22])"
      ]
     },
     "execution_count": 25,
     "metadata": {},
     "output_type": "execute_result"
    }
   ],
   "source": [
    "z[1:3]"
   ]
  },
  {
   "cell_type": "code",
   "execution_count": 24,
   "id": "8f8f5a85-3c16-478d-a500-8172f64a9a91",
   "metadata": {
    "tags": []
   },
   "outputs": [
    {
     "data": {
      "text/plain": [
       "array([29, 28, 27, 26, 25, 24, 23, 22, 21, 20])"
      ]
     },
     "execution_count": 24,
     "metadata": {},
     "output_type": "execute_result"
    }
   ],
   "source": [
    "z[::-1]"
   ]
  },
  {
   "cell_type": "code",
   "execution_count": 26,
   "id": "c094bbdf-e4be-464c-936a-e7ac96330710",
   "metadata": {
    "tags": []
   },
   "outputs": [],
   "source": [
    "#iki boyutlu slice işlemleri"
   ]
  },
  {
   "cell_type": "code",
   "execution_count": 28,
   "id": "7837352d-d002-4fca-8cf2-37d7f6d3d8bb",
   "metadata": {
    "tags": []
   },
   "outputs": [
    {
     "data": {
      "text/plain": [
       "array([[4, 7, 0, 3, 7],\n",
       "       [6, 5, 1, 7, 8],\n",
       "       [8, 0, 7, 8, 3],\n",
       "       [9, 4, 1, 9, 1],\n",
       "       [0, 3, 6, 3, 1]])"
      ]
     },
     "execution_count": 28,
     "metadata": {},
     "output_type": "execute_result"
    }
   ],
   "source": [
    "k=np.random.randint(10,size=(5,5))\n",
    "k"
   ]
  },
  {
   "cell_type": "code",
   "execution_count": 29,
   "id": "9287e2ae-3109-47a2-a382-fd60a0c3643c",
   "metadata": {
    "tags": []
   },
   "outputs": [
    {
     "data": {
      "text/plain": [
       "array([4, 6, 8, 9, 0])"
      ]
     },
     "execution_count": 29,
     "metadata": {},
     "output_type": "execute_result"
    }
   ],
   "source": [
    "k[:,0]"
   ]
  },
  {
   "cell_type": "code",
   "execution_count": 34,
   "id": "4b5a68a3-76ff-4ce8-887a-c6ad5398a9bd",
   "metadata": {
    "tags": []
   },
   "outputs": [
    {
     "data": {
      "text/plain": [
       "array([[4],\n",
       "       [6],\n",
       "       [8],\n",
       "       [9],\n",
       "       [0]])"
      ]
     },
     "execution_count": 34,
     "metadata": {},
     "output_type": "execute_result"
    }
   ],
   "source": [
    "k[0:,0:1]"
   ]
  },
  {
   "cell_type": "code",
   "execution_count": 38,
   "id": "14ea98f7-eca1-48a9-86c7-e5d0e2870487",
   "metadata": {
    "tags": []
   },
   "outputs": [
    {
     "data": {
      "text/plain": [
       "array([[4, 0, 7],\n",
       "       [9, 1, 1]])"
      ]
     },
     "execution_count": 38,
     "metadata": {},
     "output_type": "execute_result"
    }
   ],
   "source": [
    "k[0::3,0::2]"
   ]
  },
  {
   "cell_type": "code",
   "execution_count": 39,
   "id": "8c249700-ac49-406f-9ebf-1dbece395d74",
   "metadata": {
    "tags": []
   },
   "outputs": [
    {
     "data": {
      "text/plain": [
       "array([[4, 7, 0, 3, 7],\n",
       "       [6, 5, 1, 7, 8],\n",
       "       [8, 0, 7, 8, 3],\n",
       "       [9, 4, 1, 9, 1],\n",
       "       [0, 3, 6, 3, 1]])"
      ]
     },
     "execution_count": 39,
     "metadata": {},
     "output_type": "execute_result"
    }
   ],
   "source": [
    "k"
   ]
  },
  {
   "cell_type": "code",
   "execution_count": 47,
   "id": "50d3fcf7-d83d-4c00-ae8e-39ed7df1f70e",
   "metadata": {
    "tags": []
   },
   "outputs": [
    {
     "data": {
      "text/plain": [
       "array([[999,   7],\n",
       "       [  6,   5],\n",
       "       [  8,   0]])"
      ]
     },
     "execution_count": 47,
     "metadata": {},
     "output_type": "execute_result"
    }
   ],
   "source": [
    "alt_k=k[0:3,0:2]\n",
    "alt_k"
   ]
  },
  {
   "cell_type": "code",
   "execution_count": 46,
   "id": "923689ed-507f-4b73-8cb5-a7e9f7ba62d2",
   "metadata": {
    "tags": []
   },
   "outputs": [
    {
     "data": {
      "text/plain": [
       "array([[999,   7],\n",
       "       [  6,   5],\n",
       "       [  8,   0]])"
      ]
     },
     "execution_count": 46,
     "metadata": {},
     "output_type": "execute_result"
    }
   ],
   "source": [
    "copy_k=np.copy(alt_k)\n",
    "copy_k"
   ]
  },
  {
   "cell_type": "code",
   "execution_count": 48,
   "id": "6598ec22-208a-4fd6-9c47-99c12ad1a8e1",
   "metadata": {
    "tags": []
   },
   "outputs": [],
   "source": [
    "copy_k[0][0]=3"
   ]
  },
  {
   "cell_type": "code",
   "execution_count": 49,
   "id": "539569ec-5b96-470c-885b-2869330935ce",
   "metadata": {
    "tags": []
   },
   "outputs": [
    {
     "data": {
      "text/plain": [
       "array([[999,   7],\n",
       "       [  6,   5],\n",
       "       [  8,   0]])"
      ]
     },
     "execution_count": 49,
     "metadata": {},
     "output_type": "execute_result"
    }
   ],
   "source": [
    "alt_k"
   ]
  },
  {
   "cell_type": "code",
   "execution_count": 50,
   "id": "0f672180-48e1-4d3f-894b-9b5b3a76be0e",
   "metadata": {
    "tags": []
   },
   "outputs": [
    {
     "data": {
      "text/plain": [
       "array([[3, 7],\n",
       "       [6, 5],\n",
       "       [8, 0]])"
      ]
     },
     "execution_count": 50,
     "metadata": {},
     "output_type": "execute_result"
    }
   ],
   "source": [
    "copy_k"
   ]
  },
  {
   "cell_type": "code",
   "execution_count": 51,
   "id": "2d010520-b7c3-4fed-a94a-9122fdb954b2",
   "metadata": {
    "tags": []
   },
   "outputs": [
    {
     "data": {
      "text/plain": [
       "array([[999,   7,   0,   3,   7],\n",
       "       [  6,   5,   1,   7,   8],\n",
       "       [  8,   0,   7,   8,   3],\n",
       "       [  9,   4,   1,   9,   1],\n",
       "       [  0,   3,   6,   3,   1]])"
      ]
     },
     "execution_count": 51,
     "metadata": {},
     "output_type": "execute_result"
    }
   ],
   "source": [
    "k"
   ]
  },
  {
   "cell_type": "code",
   "execution_count": null,
   "id": "40ea93fc-3484-4195-a5c8-0d1d984bae65",
   "metadata": {},
   "outputs": [],
   "source": [
    ";"
   ]
  }
 ],
 "metadata": {
  "kernelspec": {
   "display_name": "Python 3 (ipykernel)",
   "language": "python",
   "name": "python3"
  },
  "language_info": {
   "codemirror_mode": {
    "name": "ipython",
    "version": 3
   },
   "file_extension": ".py",
   "mimetype": "text/x-python",
   "name": "python",
   "nbconvert_exporter": "python",
   "pygments_lexer": "ipython3",
   "version": "3.11.5"
  }
 },
 "nbformat": 4,
 "nbformat_minor": 5
}
