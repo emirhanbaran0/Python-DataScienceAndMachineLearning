{
 "cells": [
  {
   "cell_type": "markdown",
   "id": "2847560f-209e-4f67-9187-148bffc6b956",
   "metadata": {},
   "source": [
    "# Fancy Index ile Elemanlara Erişmek"
   ]
  },
  {
   "cell_type": "code",
   "execution_count": 1,
   "id": "87251c54-9564-40b8-b95a-8931c3f6fc5d",
   "metadata": {},
   "outputs": [
    {
     "data": {
      "text/plain": [
       "array([ 0,  3,  6,  9, 12, 15, 18, 21, 24, 27])"
      ]
     },
     "execution_count": 1,
     "metadata": {},
     "output_type": "execute_result"
    }
   ],
   "source": [
    "import numpy as np\n",
    "v=np.arange(0,30,3)\n",
    "v"
   ]
  },
  {
   "cell_type": "code",
   "execution_count": 2,
   "id": "73f96eab-c571-48d4-98e7-0eb2f336a95c",
   "metadata": {},
   "outputs": [
    {
     "data": {
      "text/plain": [
       "[3, 9, 15]"
      ]
     },
     "execution_count": 2,
     "metadata": {},
     "output_type": "execute_result"
    }
   ],
   "source": [
    "[v[1],v[3],v[5]]"
   ]
  },
  {
   "cell_type": "code",
   "execution_count": 5,
   "id": "f4016756-ff2d-4c97-b818-1d4d17100967",
   "metadata": {},
   "outputs": [],
   "source": [
    "al_getir=[1,3,5]"
   ]
  },
  {
   "cell_type": "code",
   "execution_count": 6,
   "id": "43bfcef6-0398-4ea5-8002-905af67f2bb3",
   "metadata": {},
   "outputs": [
    {
     "data": {
      "text/plain": [
       "array([ 3,  9, 15])"
      ]
     },
     "execution_count": 6,
     "metadata": {},
     "output_type": "execute_result"
    }
   ],
   "source": [
    "v[al_getir]"
   ]
  },
  {
   "cell_type": "code",
   "execution_count": null,
   "id": "248f2482-60f5-4ec8-a47b-d6e0b38ba2b7",
   "metadata": {},
   "outputs": [],
   "source": [
    "#iki boyutta fancy"
   ]
  },
  {
   "cell_type": "code",
   "execution_count": 20,
   "id": "5d60f1e2-2b36-4c27-810f-053d7e771fac",
   "metadata": {},
   "outputs": [
    {
     "data": {
      "text/plain": [
       "array([[0, 1, 2],\n",
       "       [3, 4, 5],\n",
       "       [6, 7, 8]])"
      ]
     },
     "execution_count": 20,
     "metadata": {},
     "output_type": "execute_result"
    }
   ],
   "source": [
    "m=np.arange(9).reshape((3,3))\n",
    "m"
   ]
  },
  {
   "cell_type": "code",
   "execution_count": 24,
   "id": "fcd1016e-ca27-4dfe-8c73-ac6fabf8f2ad",
   "metadata": {},
   "outputs": [],
   "source": [
    "satir=np.array([0,1])\n",
    "sutun=np.array([1,2])"
   ]
  },
  {
   "cell_type": "code",
   "execution_count": 25,
   "id": "4bfc9352-4c9e-42f7-96c9-57230a1ade1b",
   "metadata": {},
   "outputs": [
    {
     "data": {
      "text/plain": [
       "array([1, 5])"
      ]
     },
     "execution_count": 25,
     "metadata": {},
     "output_type": "execute_result"
    }
   ],
   "source": [
    "m[satir,sutun]"
   ]
  },
  {
   "cell_type": "code",
   "execution_count": null,
   "id": "0c3427d1-b318-4f3c-a7f8-f49cdf2f59e1",
   "metadata": {},
   "outputs": [],
   "source": [
    "#basit index ile fancy index"
   ]
  },
  {
   "cell_type": "code",
   "execution_count": 28,
   "id": "8f5c4a55-e9f7-4097-8ff5-45e819619f63",
   "metadata": {},
   "outputs": [
    {
     "data": {
      "text/plain": [
       "array([[0, 1, 2],\n",
       "       [3, 4, 5],\n",
       "       [6, 7, 8]])"
      ]
     },
     "execution_count": 28,
     "metadata": {},
     "output_type": "execute_result"
    }
   ],
   "source": [
    "m"
   ]
  },
  {
   "cell_type": "code",
   "execution_count": 27,
   "id": "7e4b4b32-c254-4776-a27c-d114865ff51a",
   "metadata": {},
   "outputs": [
    {
     "data": {
      "text/plain": [
       "array([1, 2])"
      ]
     },
     "execution_count": 27,
     "metadata": {},
     "output_type": "execute_result"
    }
   ],
   "source": [
    "m[0,[1,2]]"
   ]
  },
  {
   "cell_type": "code",
   "execution_count": null,
   "id": "bd194801-e382-477a-a9cd-41b9e85274f1",
   "metadata": {},
   "outputs": [],
   "source": [
    "#slice ile fancy"
   ]
  },
  {
   "cell_type": "code",
   "execution_count": 30,
   "id": "77956bb1-22c7-4eb8-ac5f-ba574107b603",
   "metadata": {},
   "outputs": [],
   "source": [
    "m[0:,[1,2]]=   [[99,99],[99,99],[99,99]]"
   ]
  },
  {
   "cell_type": "code",
   "execution_count": 31,
   "id": "1d0b36b7-7a80-4b68-b437-ac80b25f239f",
   "metadata": {},
   "outputs": [
    {
     "data": {
      "text/plain": [
       "array([[ 0, 99, 99],\n",
       "       [ 3, 99, 99],\n",
       "       [ 6, 99, 99]])"
      ]
     },
     "execution_count": 31,
     "metadata": {},
     "output_type": "execute_result"
    }
   ],
   "source": [
    "m"
   ]
  },
  {
   "cell_type": "code",
   "execution_count": null,
   "id": "931ba638-7ba0-4e59-9120-4ed3bfbb89cb",
   "metadata": {},
   "outputs": [],
   "source": []
  }
 ],
 "metadata": {
  "kernelspec": {
   "display_name": "Python 3 (ipykernel)",
   "language": "python",
   "name": "python3"
  },
  "language_info": {
   "codemirror_mode": {
    "name": "ipython",
    "version": 3
   },
   "file_extension": ".py",
   "mimetype": "text/x-python",
   "name": "python",
   "nbconvert_exporter": "python",
   "pygments_lexer": "ipython3",
   "version": "3.11.5"
  }
 },
 "nbformat": 4,
 "nbformat_minor": 5
}
