{
 "cells": [
  {
   "cell_type": "markdown",
   "id": "03c676c4-693f-461b-b352-6e00360c9aed",
   "metadata": {},
   "source": [
    "# Array Sıralama(Sorting)"
   ]
  },
  {
   "cell_type": "code",
   "execution_count": 1,
   "id": "d605b079-4fd3-4f66-a616-b055530002c4",
   "metadata": {
    "tags": []
   },
   "outputs": [],
   "source": [
    "import numpy as np"
   ]
  },
  {
   "cell_type": "code",
   "execution_count": 2,
   "id": "f5300327-3106-4b3a-86bd-62dfbdbfa188",
   "metadata": {
    "tags": []
   },
   "outputs": [],
   "source": [
    "v=np.array([2,1,4,5,3])"
   ]
  },
  {
   "cell_type": "code",
   "execution_count": 3,
   "id": "1201f19a-d453-45e0-81dc-4ce382d17780",
   "metadata": {
    "tags": []
   },
   "outputs": [
    {
     "data": {
      "text/plain": [
       "array([2, 1, 4, 5, 3])"
      ]
     },
     "execution_count": 3,
     "metadata": {},
     "output_type": "execute_result"
    }
   ],
   "source": [
    "v"
   ]
  },
  {
   "cell_type": "code",
   "execution_count": 7,
   "id": "c2d6b63a-c379-4192-9042-8f2a09636766",
   "metadata": {
    "tags": []
   },
   "outputs": [
    {
     "data": {
      "text/plain": [
       "array([1, 2, 3, 4, 5])"
      ]
     },
     "execution_count": 7,
     "metadata": {},
     "output_type": "execute_result"
    }
   ],
   "source": [
    "np.sort(v)"
   ]
  },
  {
   "cell_type": "code",
   "execution_count": 8,
   "id": "fbd71c9e-e885-4306-a19a-4cfc2b983315",
   "metadata": {
    "tags": []
   },
   "outputs": [
    {
     "data": {
      "text/plain": [
       "array([2, 1, 4, 5, 3])"
      ]
     },
     "execution_count": 8,
     "metadata": {},
     "output_type": "execute_result"
    }
   ],
   "source": [
    "v"
   ]
  },
  {
   "cell_type": "code",
   "execution_count": 10,
   "id": "919dad6d-04a7-4d51-8181-8c69a821e73f",
   "metadata": {
    "tags": []
   },
   "outputs": [],
   "source": [
    "#iki boyutlu array sıralama"
   ]
  },
  {
   "cell_type": "code",
   "execution_count": 19,
   "id": "8a04de6d-035e-45ab-8618-5ad4a84266c0",
   "metadata": {
    "tags": []
   },
   "outputs": [
    {
     "data": {
      "text/plain": [
       "array([[17.45801177, 22.51406139, 18.26197336],\n",
       "       [20.38851385, 17.31834152, 19.2198069 ],\n",
       "       [22.08877782, 16.34985488, 20.95907465]])"
      ]
     },
     "execution_count": 19,
     "metadata": {},
     "output_type": "execute_result"
    }
   ],
   "source": [
    "ab=np.random.normal(20,5,(3,3))\n",
    "ab"
   ]
  },
  {
   "cell_type": "code",
   "execution_count": 25,
   "id": "dc1198a6-fd51-47b3-ae83-9bedf7c7d034",
   "metadata": {
    "tags": []
   },
   "outputs": [
    {
     "data": {
      "text/plain": [
       "array([[17.45801177, 18.26197336, 22.51406139],\n",
       "       [17.31834152, 19.2198069 , 20.38851385],\n",
       "       [16.34985488, 20.95907465, 22.08877782]])"
      ]
     },
     "execution_count": 25,
     "metadata": {},
     "output_type": "execute_result"
    }
   ],
   "source": [
    "ab=np.sort(ab,1)\n",
    "ab"
   ]
  },
  {
   "cell_type": "code",
   "execution_count": 24,
   "id": "ad80b717-37f2-4fa8-80d3-61a284010206",
   "metadata": {
    "tags": []
   },
   "outputs": [
    {
     "data": {
      "text/plain": [
       "array([[16.34985488, 18.26197336, 20.38851385],\n",
       "       [17.31834152, 19.2198069 , 22.08877782],\n",
       "       [17.45801177, 20.95907465, 22.51406139]])"
      ]
     },
     "execution_count": 24,
     "metadata": {},
     "output_type": "execute_result"
    }
   ],
   "source": [
    "np.sort(ab,0)"
   ]
  },
  {
   "cell_type": "code",
   "execution_count": null,
   "id": "8700f316-8160-4cf0-b116-1f6e44465f2e",
   "metadata": {
    "tags": []
   },
   "outputs": [],
   "source": []
  },
  {
   "cell_type": "code",
   "execution_count": null,
   "id": "dc239231-51e2-45e4-bbd1-3b7a34ca1726",
   "metadata": {},
   "outputs": [],
   "source": []
  }
 ],
 "metadata": {
  "kernelspec": {
   "display_name": "Python 3 (ipykernel)",
   "language": "python",
   "name": "python3"
  },
  "language_info": {
   "codemirror_mode": {
    "name": "ipython",
    "version": 3
   },
   "file_extension": ".py",
   "mimetype": "text/x-python",
   "name": "python",
   "nbconvert_exporter": "python",
   "pygments_lexer": "ipython3",
   "version": "3.11.5"
  }
 },
 "nbformat": 4,
 "nbformat_minor": 5
}
