{
 "cells": [
  {
   "cell_type": "markdown",
   "id": "6dabdfad-3605-4fc1-abdc-1cdda782c6ea",
   "metadata": {},
   "source": [
    "# Eleman İşlemleri"
   ]
  },
  {
   "cell_type": "code",
   "execution_count": 3,
   "id": "b494dd4a-0afe-4e84-bc8b-72cd66189019",
   "metadata": {},
   "outputs": [],
   "source": [
    "import numpy as np\n",
    "import pandas as pd"
   ]
  },
  {
   "cell_type": "code",
   "execution_count": 4,
   "id": "71ea9aae-bd71-4110-9195-74470dbe9f39",
   "metadata": {},
   "outputs": [
    {
     "data": {
      "text/plain": [
       "0      1\n",
       "1      2\n",
       "2     33\n",
       "3    444\n",
       "4     75\n",
       "dtype: int32"
      ]
     },
     "execution_count": 4,
     "metadata": {},
     "output_type": "execute_result"
    }
   ],
   "source": [
    "a=np.array([1,2,33,444,75])\n",
    "seri=pd.Series(a)\n",
    "seri"
   ]
  },
  {
   "cell_type": "code",
   "execution_count": 5,
   "id": "1d430086-e861-4213-8cc6-9d171b146475",
   "metadata": {},
   "outputs": [
    {
     "data": {
      "text/plain": [
       "RangeIndex(start=0, stop=5, step=1)"
      ]
     },
     "execution_count": 5,
     "metadata": {},
     "output_type": "execute_result"
    }
   ],
   "source": [
    "seri.index"
   ]
  },
  {
   "cell_type": "code",
   "execution_count": 6,
   "id": "8d20b8bf-6da1-49ab-862d-7a632ac7f33f",
   "metadata": {},
   "outputs": [
    {
     "data": {
      "text/plain": [
       "<bound method Series.keys of 0      1\n",
       "1      2\n",
       "2     33\n",
       "3    444\n",
       "4     75\n",
       "dtype: int32>"
      ]
     },
     "execution_count": 6,
     "metadata": {},
     "output_type": "execute_result"
    }
   ],
   "source": [
    "seri.keys"
   ]
  },
  {
   "cell_type": "code",
   "execution_count": 8,
   "id": "e9085b3c-aef2-4b34-b4bd-8a380f51d32f",
   "metadata": {},
   "outputs": [
    {
     "data": {
      "text/plain": [
       "[(0, 1), (1, 2), (2, 33), (3, 444), (4, 75)]"
      ]
     },
     "execution_count": 8,
     "metadata": {},
     "output_type": "execute_result"
    }
   ],
   "source": [
    "list(seri.items())"
   ]
  },
  {
   "cell_type": "code",
   "execution_count": 9,
   "id": "baa1150b-f80e-4e8f-bbba-2b750cfc2cd5",
   "metadata": {},
   "outputs": [],
   "source": [
    "# Eleman Sorgulama"
   ]
  },
  {
   "cell_type": "code",
   "execution_count": 10,
   "id": "0a233a53-537f-40f9-ad1e-c5c842f25539",
   "metadata": {},
   "outputs": [
    {
     "data": {
      "text/plain": [
       "True"
      ]
     },
     "execution_count": 10,
     "metadata": {},
     "output_type": "execute_result"
    }
   ],
   "source": [
    "0 in seri"
   ]
  },
  {
   "cell_type": "code",
   "execution_count": 11,
   "id": "45a0f2bd-4aa7-4a60-835a-624faef96e03",
   "metadata": {},
   "outputs": [
    {
     "data": {
      "text/plain": [
       "False"
      ]
     },
     "execution_count": 11,
     "metadata": {},
     "output_type": "execute_result"
    }
   ],
   "source": [
    "10 in seri"
   ]
  },
  {
   "cell_type": "code",
   "execution_count": 12,
   "id": "100bb840-ed58-4c56-adc7-63f84de8bc6e",
   "metadata": {},
   "outputs": [
    {
     "data": {
      "text/plain": [
       "False"
      ]
     },
     "execution_count": 12,
     "metadata": {},
     "output_type": "execute_result"
    }
   ],
   "source": [
    "33 in seri"
   ]
  },
  {
   "cell_type": "code",
   "execution_count": 13,
   "id": "dd35b622-1ed8-4da3-9903-b91d413787b5",
   "metadata": {},
   "outputs": [],
   "source": [
    "#Fancy ile eleman seçme"
   ]
  },
  {
   "cell_type": "code",
   "execution_count": 15,
   "id": "f1b34ef9-e67e-4c57-91e5-87caecdf644e",
   "metadata": {},
   "outputs": [],
   "source": [
    "b=pd.Series({\"reg\":12, \"fm\":12, \"gs\":1})"
   ]
  },
  {
   "cell_type": "code",
   "execution_count": 16,
   "id": "1cc33618-21ac-4716-9761-c1b2c41806cc",
   "metadata": {},
   "outputs": [
    {
     "data": {
      "text/plain": [
       "reg    12\n",
       "fm     12\n",
       "gs      1\n",
       "dtype: int64"
      ]
     },
     "execution_count": 16,
     "metadata": {},
     "output_type": "execute_result"
    }
   ],
   "source": [
    "b\n"
   ]
  },
  {
   "cell_type": "code",
   "execution_count": 17,
   "id": "afc4a1d2-71f5-474b-84c6-f425fd43b67b",
   "metadata": {},
   "outputs": [
    {
     "data": {
      "text/plain": [
       "reg    12\n",
       "fm     12\n",
       "dtype: int64"
      ]
     },
     "execution_count": 17,
     "metadata": {},
     "output_type": "execute_result"
    }
   ],
   "source": [
    "b[[\"reg\",\"fm\"]]"
   ]
  },
  {
   "cell_type": "code",
   "execution_count": 19,
   "id": "aa6df9aa-d890-4dc0-a990-7b53241a864f",
   "metadata": {},
   "outputs": [
    {
     "data": {
      "text/plain": [
       "reg    12\n",
       "fm     12\n",
       "gs      1\n",
       "dtype: int64"
      ]
     },
     "execution_count": 19,
     "metadata": {},
     "output_type": "execute_result"
    }
   ],
   "source": [
    "b[\"reg\": \"gs\"]"
   ]
  },
  {
   "cell_type": "code",
   "execution_count": null,
   "id": "3bd584f8-bfe6-4734-8535-3ede1264fe16",
   "metadata": {},
   "outputs": [],
   "source": []
  }
 ],
 "metadata": {
  "kernelspec": {
   "display_name": "Python 3 (ipykernel)",
   "language": "python",
   "name": "python3"
  },
  "language_info": {
   "codemirror_mode": {
    "name": "ipython",
    "version": 3
   },
   "file_extension": ".py",
   "mimetype": "text/x-python",
   "name": "python",
   "nbconvert_exporter": "python",
   "pygments_lexer": "ipython3",
   "version": "3.11.5"
  }
 },
 "nbformat": 4,
 "nbformat_minor": 5
}
