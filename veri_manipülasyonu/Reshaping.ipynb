{
 "cells": [
  {
   "cell_type": "markdown",
   "id": "8d7368f6-1096-4f12-a2bb-51a29838bb59",
   "metadata": {},
   "source": [
    "# Yeniden Şekillendirme(Reshaping)"
   ]
  },
  {
   "cell_type": "code",
   "execution_count": 1,
   "id": "62daa5f5-277c-4997-ab08-9d57669f7d72",
   "metadata": {
    "tags": []
   },
   "outputs": [],
   "source": [
    "import numpy as np"
   ]
  },
  {
   "cell_type": "code",
   "execution_count": 8,
   "id": "d0b2a322-7251-4171-bc24-b9d3a7981a3b",
   "metadata": {
    "tags": []
   },
   "outputs": [
    {
     "data": {
      "text/plain": [
       "array([1, 2, 3, 4, 5, 6, 7, 8, 9])"
      ]
     },
     "execution_count": 8,
     "metadata": {},
     "output_type": "execute_result"
    }
   ],
   "source": [
    "a=np.arange(1,10)\n",
    "a"
   ]
  },
  {
   "cell_type": "code",
   "execution_count": 12,
   "id": "8decb8c3-5d88-421b-be61-b88f45d826c7",
   "metadata": {
    "tags": []
   },
   "outputs": [],
   "source": [
    "b=a.reshape((3,3))"
   ]
  },
  {
   "cell_type": "code",
   "execution_count": 17,
   "id": "1cf43c57-2e10-4e29-8cc1-be0a282f86aa",
   "metadata": {
    "tags": []
   },
   "outputs": [
    {
     "data": {
      "text/plain": [
       "array([[1, 2, 3, 4, 5, 6, 7, 8, 9]])"
      ]
     },
     "execution_count": 17,
     "metadata": {},
     "output_type": "execute_result"
    }
   ],
   "source": [
    "b.reshape((1,9))"
   ]
  },
  {
   "cell_type": "code",
   "execution_count": 18,
   "id": "42416a8d-67ad-4c0d-9aae-703d840cd4e4",
   "metadata": {
    "tags": []
   },
   "outputs": [
    {
     "data": {
      "text/plain": [
       "2"
      ]
     },
     "execution_count": 18,
     "metadata": {},
     "output_type": "execute_result"
    }
   ],
   "source": [
    "b.ndim"
   ]
  },
  {
   "cell_type": "code",
   "execution_count": 19,
   "id": "34d9ec9a-9c1d-41bf-b3d0-5505e28660b9",
   "metadata": {
    "tags": []
   },
   "outputs": [
    {
     "data": {
      "text/plain": [
       "1"
      ]
     },
     "execution_count": 19,
     "metadata": {},
     "output_type": "execute_result"
    }
   ],
   "source": [
    "a.ndim"
   ]
  },
  {
   "cell_type": "code",
   "execution_count": null,
   "id": "ba759eee-9b05-4c58-ab12-699446743125",
   "metadata": {},
   "outputs": [],
   "source": []
  }
 ],
 "metadata": {
  "kernelspec": {
   "display_name": "Python 3 (ipykernel)",
   "language": "python",
   "name": "python3"
  },
  "language_info": {
   "codemirror_mode": {
    "name": "ipython",
    "version": 3
   },
   "file_extension": ".py",
   "mimetype": "text/x-python",
   "name": "python",
   "nbconvert_exporter": "python",
   "pygments_lexer": "ipython3",
   "version": "3.11.5"
  }
 },
 "nbformat": 4,
 "nbformat_minor": 5
}
